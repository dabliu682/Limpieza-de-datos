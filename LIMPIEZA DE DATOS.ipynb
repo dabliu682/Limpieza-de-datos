{
 "cells": [
  {
   "cell_type": "markdown",
   "metadata": {},
   "source": [
    "# EXPLORACION Y LIMPIEZA DE DATOS"
   ]
  },
  {
   "cell_type": "code",
   "execution_count": 944,
   "metadata": {},
   "outputs": [],
   "source": [
    "import pandas as pd\n",
    "import numpy as np\n",
    "import matplotlib.pyplot as plt\n",
    "from scipy.stats import norm"
   ]
  },
  {
   "cell_type": "code",
   "execution_count": 945,
   "metadata": {},
   "outputs": [],
   "source": [
    "url = \"saber_pro_finales.csv\"\n",
    "ruta = \"/Users/Dabli/Documents/DESARROLLO TRABAJO DE GRADO/saber_pro_limpia.csv\""
   ]
  },
  {
   "cell_type": "code",
   "execution_count": 946,
   "metadata": {},
   "outputs": [],
   "source": [
    "df = pd.read_csv(url)"
   ]
  },
  {
   "cell_type": "markdown",
   "metadata": {},
   "source": [
    "### ESTRUCTURA ORIGINAL DE LA TABLA pruebas_saber_finales"
   ]
  },
  {
   "cell_type": "code",
   "execution_count": 947,
   "metadata": {},
   "outputs": [
    {
     "data": {
      "text/html": [
       "<div>\n",
       "<style scoped>\n",
       "    .dataframe tbody tr th:only-of-type {\n",
       "        vertical-align: middle;\n",
       "    }\n",
       "\n",
       "    .dataframe tbody tr th {\n",
       "        vertical-align: top;\n",
       "    }\n",
       "\n",
       "    .dataframe thead th {\n",
       "        text-align: right;\n",
       "    }\n",
       "</style>\n",
       "<table border=\"1\" class=\"dataframe\">\n",
       "  <thead>\n",
       "    <tr style=\"text-align: right;\">\n",
       "      <th></th>\n",
       "      <th>estu_consecutivo</th>\n",
       "      <th>estu_genero</th>\n",
       "      <th>estu_nacimiento_fecha</th>\n",
       "      <th>estu_edad_examen</th>\n",
       "      <th>estu_estado_civil</th>\n",
       "      <th>estu_discapacidad</th>\n",
       "      <th>estu_reside_coddpto</th>\n",
       "      <th>estu_hogar_actual</th>\n",
       "      <th>fami_num_pers_grup_fam</th>\n",
       "      <th>estu_sn_cabeza_fmlia</th>\n",
       "      <th>...</th>\n",
       "      <th>econ_electrodomesticos</th>\n",
       "      <th>econ_sn_automovil</th>\n",
       "      <th>fami_ing_fmliar_mensual</th>\n",
       "      <th>estu_trabaja</th>\n",
       "      <th>mod_lectura_critica</th>\n",
       "      <th>mod_comunica_escrita_punt</th>\n",
       "      <th>mod_comunica_escrita_desem</th>\n",
       "      <th>mod_razona_cuantitativo_punt</th>\n",
       "      <th>mod_ingles_punt</th>\n",
       "      <th>mod_ingles_desem</th>\n",
       "    </tr>\n",
       "  </thead>\n",
       "  <tbody>\n",
       "    <tr>\n",
       "      <td>0</td>\n",
       "      <td>SBPRO201120106760</td>\n",
       "      <td>1</td>\n",
       "      <td>1982-06-07</td>\n",
       "      <td>29.0</td>\n",
       "      <td>1</td>\n",
       "      <td>0</td>\n",
       "      <td>73000.0</td>\n",
       "      <td>2.0</td>\n",
       "      <td>3.0</td>\n",
       "      <td>0.0</td>\n",
       "      <td>...</td>\n",
       "      <td>1</td>\n",
       "      <td>0.0</td>\n",
       "      <td>1.0</td>\n",
       "      <td>0.0</td>\n",
       "      <td>10.3</td>\n",
       "      <td>10.1</td>\n",
       "      <td>4.0</td>\n",
       "      <td>11.0</td>\n",
       "      <td>9.8</td>\n",
       "      <td>A1</td>\n",
       "    </tr>\n",
       "    <tr>\n",
       "      <td>1</td>\n",
       "      <td>SBPRO201120033321</td>\n",
       "      <td>2</td>\n",
       "      <td>1987-05-15</td>\n",
       "      <td>24.0</td>\n",
       "      <td>1</td>\n",
       "      <td>0</td>\n",
       "      <td>13000.0</td>\n",
       "      <td>1.0</td>\n",
       "      <td>5.0</td>\n",
       "      <td>0.0</td>\n",
       "      <td>...</td>\n",
       "      <td>1</td>\n",
       "      <td>0.0</td>\n",
       "      <td>4.0</td>\n",
       "      <td>5.0</td>\n",
       "      <td>11.2</td>\n",
       "      <td>11.7</td>\n",
       "      <td>6.0</td>\n",
       "      <td>10.2</td>\n",
       "      <td>12.3</td>\n",
       "      <td>B+</td>\n",
       "    </tr>\n",
       "    <tr>\n",
       "      <td>2</td>\n",
       "      <td>SBPRO201120049333</td>\n",
       "      <td>2</td>\n",
       "      <td>1986-12-25</td>\n",
       "      <td>24.0</td>\n",
       "      <td>1</td>\n",
       "      <td>0</td>\n",
       "      <td>76000.0</td>\n",
       "      <td>2.0</td>\n",
       "      <td>5.0</td>\n",
       "      <td>0.0</td>\n",
       "      <td>...</td>\n",
       "      <td>1</td>\n",
       "      <td>0.0</td>\n",
       "      <td>4.0</td>\n",
       "      <td>0.0</td>\n",
       "      <td>11.4</td>\n",
       "      <td>9.3</td>\n",
       "      <td>4.0</td>\n",
       "      <td>12.2</td>\n",
       "      <td>10.3</td>\n",
       "      <td>A2</td>\n",
       "    </tr>\n",
       "    <tr>\n",
       "      <td>3</td>\n",
       "      <td>SBPRO201120036684</td>\n",
       "      <td>2</td>\n",
       "      <td>1990-07-28</td>\n",
       "      <td>21.0</td>\n",
       "      <td>1</td>\n",
       "      <td>0</td>\n",
       "      <td>76000.0</td>\n",
       "      <td>1.0</td>\n",
       "      <td>4.0</td>\n",
       "      <td>0.0</td>\n",
       "      <td>...</td>\n",
       "      <td>1</td>\n",
       "      <td>0.0</td>\n",
       "      <td>3.0</td>\n",
       "      <td>0.0</td>\n",
       "      <td>11.2</td>\n",
       "      <td>9.5</td>\n",
       "      <td>4.0</td>\n",
       "      <td>11.4</td>\n",
       "      <td>10.6</td>\n",
       "      <td>B1</td>\n",
       "    </tr>\n",
       "    <tr>\n",
       "      <td>4</td>\n",
       "      <td>SBPRO201120073755</td>\n",
       "      <td>1</td>\n",
       "      <td>1966-10-17</td>\n",
       "      <td>45.0</td>\n",
       "      <td>4</td>\n",
       "      <td>0</td>\n",
       "      <td>11000.0</td>\n",
       "      <td>1.0</td>\n",
       "      <td>3.0</td>\n",
       "      <td>1.0</td>\n",
       "      <td>...</td>\n",
       "      <td>1</td>\n",
       "      <td>0.0</td>\n",
       "      <td>2.0</td>\n",
       "      <td>0.0</td>\n",
       "      <td>9.7</td>\n",
       "      <td>10.8</td>\n",
       "      <td>5.0</td>\n",
       "      <td>10.0</td>\n",
       "      <td>9.4</td>\n",
       "      <td>A-</td>\n",
       "    </tr>\n",
       "    <tr>\n",
       "      <td>5</td>\n",
       "      <td>SBPRO201120092783</td>\n",
       "      <td>2</td>\n",
       "      <td>1988-09-06</td>\n",
       "      <td>23.0</td>\n",
       "      <td>2</td>\n",
       "      <td>0</td>\n",
       "      <td>66000.0</td>\n",
       "      <td>1.0</td>\n",
       "      <td>2.0</td>\n",
       "      <td>0.0</td>\n",
       "      <td>...</td>\n",
       "      <td>1</td>\n",
       "      <td>1.0</td>\n",
       "      <td>3.0</td>\n",
       "      <td>0.0</td>\n",
       "      <td>11.1</td>\n",
       "      <td>10.5</td>\n",
       "      <td>5.0</td>\n",
       "      <td>10.0</td>\n",
       "      <td>9.8</td>\n",
       "      <td>A1</td>\n",
       "    </tr>\n",
       "    <tr>\n",
       "      <td>6</td>\n",
       "      <td>SBPRO201120065340</td>\n",
       "      <td>1</td>\n",
       "      <td>1985-11-23</td>\n",
       "      <td>25.0</td>\n",
       "      <td>1</td>\n",
       "      <td>0</td>\n",
       "      <td>19000.0</td>\n",
       "      <td>1.0</td>\n",
       "      <td>4.0</td>\n",
       "      <td>0.0</td>\n",
       "      <td>...</td>\n",
       "      <td>1</td>\n",
       "      <td>0.0</td>\n",
       "      <td>1.0</td>\n",
       "      <td>0.0</td>\n",
       "      <td>11.1</td>\n",
       "      <td>10.6</td>\n",
       "      <td>5.0</td>\n",
       "      <td>11.2</td>\n",
       "      <td>9.9</td>\n",
       "      <td>A1</td>\n",
       "    </tr>\n",
       "    <tr>\n",
       "      <td>7</td>\n",
       "      <td>SBPRO201120061732</td>\n",
       "      <td>1</td>\n",
       "      <td>1980-04-10</td>\n",
       "      <td>31.0</td>\n",
       "      <td>2</td>\n",
       "      <td>0</td>\n",
       "      <td>11000.0</td>\n",
       "      <td>1.0</td>\n",
       "      <td>2.0</td>\n",
       "      <td>1.0</td>\n",
       "      <td>...</td>\n",
       "      <td>1</td>\n",
       "      <td>0.0</td>\n",
       "      <td>4.0</td>\n",
       "      <td>3.0</td>\n",
       "      <td>12.1</td>\n",
       "      <td>10.6</td>\n",
       "      <td>5.0</td>\n",
       "      <td>13.3</td>\n",
       "      <td>11.4</td>\n",
       "      <td>B1</td>\n",
       "    </tr>\n",
       "    <tr>\n",
       "      <td>8</td>\n",
       "      <td>SBPRO201120011195</td>\n",
       "      <td>2</td>\n",
       "      <td>1989-05-20</td>\n",
       "      <td>22.0</td>\n",
       "      <td>1</td>\n",
       "      <td>0</td>\n",
       "      <td>15000.0</td>\n",
       "      <td>1.0</td>\n",
       "      <td>5.0</td>\n",
       "      <td>0.0</td>\n",
       "      <td>...</td>\n",
       "      <td>1</td>\n",
       "      <td>0.0</td>\n",
       "      <td>3.0</td>\n",
       "      <td>0.0</td>\n",
       "      <td>9.9</td>\n",
       "      <td>10.4</td>\n",
       "      <td>5.0</td>\n",
       "      <td>9.2</td>\n",
       "      <td>9.4</td>\n",
       "      <td>A-</td>\n",
       "    </tr>\n",
       "    <tr>\n",
       "      <td>9</td>\n",
       "      <td>SBPRO201120071646</td>\n",
       "      <td>2</td>\n",
       "      <td>1982-08-22</td>\n",
       "      <td>29.0</td>\n",
       "      <td>1</td>\n",
       "      <td>0</td>\n",
       "      <td>11000.0</td>\n",
       "      <td>1.0</td>\n",
       "      <td>5.0</td>\n",
       "      <td>1.0</td>\n",
       "      <td>...</td>\n",
       "      <td>1</td>\n",
       "      <td>0.0</td>\n",
       "      <td>4.0</td>\n",
       "      <td>3.0</td>\n",
       "      <td>11.3</td>\n",
       "      <td>10.6</td>\n",
       "      <td>5.0</td>\n",
       "      <td>10.0</td>\n",
       "      <td>10.5</td>\n",
       "      <td>A2</td>\n",
       "    </tr>\n",
       "  </tbody>\n",
       "</table>\n",
       "<p>10 rows × 42 columns</p>\n",
       "</div>"
      ],
      "text/plain": [
       "    estu_consecutivo  estu_genero estu_nacimiento_fecha  estu_edad_examen  \\\n",
       "0  SBPRO201120106760            1            1982-06-07              29.0   \n",
       "1  SBPRO201120033321            2            1987-05-15              24.0   \n",
       "2  SBPRO201120049333            2            1986-12-25              24.0   \n",
       "3  SBPRO201120036684            2            1990-07-28              21.0   \n",
       "4  SBPRO201120073755            1            1966-10-17              45.0   \n",
       "5  SBPRO201120092783            2            1988-09-06              23.0   \n",
       "6  SBPRO201120065340            1            1985-11-23              25.0   \n",
       "7  SBPRO201120061732            1            1980-04-10              31.0   \n",
       "8  SBPRO201120011195            2            1989-05-20              22.0   \n",
       "9  SBPRO201120071646            2            1982-08-22              29.0   \n",
       "\n",
       "   estu_estado_civil  estu_discapacidad  estu_reside_coddpto  \\\n",
       "0                  1                  0              73000.0   \n",
       "1                  1                  0              13000.0   \n",
       "2                  1                  0              76000.0   \n",
       "3                  1                  0              76000.0   \n",
       "4                  4                  0              11000.0   \n",
       "5                  2                  0              66000.0   \n",
       "6                  1                  0              19000.0   \n",
       "7                  2                  0              11000.0   \n",
       "8                  1                  0              15000.0   \n",
       "9                  1                  0              11000.0   \n",
       "\n",
       "   estu_hogar_actual  fami_num_pers_grup_fam  estu_sn_cabeza_fmlia  ...  \\\n",
       "0                2.0                     3.0                   0.0  ...   \n",
       "1                1.0                     5.0                   0.0  ...   \n",
       "2                2.0                     5.0                   0.0  ...   \n",
       "3                1.0                     4.0                   0.0  ...   \n",
       "4                1.0                     3.0                   1.0  ...   \n",
       "5                1.0                     2.0                   0.0  ...   \n",
       "6                1.0                     4.0                   0.0  ...   \n",
       "7                1.0                     2.0                   1.0  ...   \n",
       "8                1.0                     5.0                   0.0  ...   \n",
       "9                1.0                     5.0                   1.0  ...   \n",
       "\n",
       "   econ_electrodomesticos  econ_sn_automovil  fami_ing_fmliar_mensual  \\\n",
       "0                       1                0.0                      1.0   \n",
       "1                       1                0.0                      4.0   \n",
       "2                       1                0.0                      4.0   \n",
       "3                       1                0.0                      3.0   \n",
       "4                       1                0.0                      2.0   \n",
       "5                       1                1.0                      3.0   \n",
       "6                       1                0.0                      1.0   \n",
       "7                       1                0.0                      4.0   \n",
       "8                       1                0.0                      3.0   \n",
       "9                       1                0.0                      4.0   \n",
       "\n",
       "   estu_trabaja  mod_lectura_critica  mod_comunica_escrita_punt  \\\n",
       "0           0.0                 10.3                       10.1   \n",
       "1           5.0                 11.2                       11.7   \n",
       "2           0.0                 11.4                        9.3   \n",
       "3           0.0                 11.2                        9.5   \n",
       "4           0.0                  9.7                       10.8   \n",
       "5           0.0                 11.1                       10.5   \n",
       "6           0.0                 11.1                       10.6   \n",
       "7           3.0                 12.1                       10.6   \n",
       "8           0.0                  9.9                       10.4   \n",
       "9           3.0                 11.3                       10.6   \n",
       "\n",
       "   mod_comunica_escrita_desem  mod_razona_cuantitativo_punt  mod_ingles_punt  \\\n",
       "0                         4.0                          11.0              9.8   \n",
       "1                         6.0                          10.2             12.3   \n",
       "2                         4.0                          12.2             10.3   \n",
       "3                         4.0                          11.4             10.6   \n",
       "4                         5.0                          10.0              9.4   \n",
       "5                         5.0                          10.0              9.8   \n",
       "6                         5.0                          11.2              9.9   \n",
       "7                         5.0                          13.3             11.4   \n",
       "8                         5.0                           9.2              9.4   \n",
       "9                         5.0                          10.0             10.5   \n",
       "\n",
       "   mod_ingles_desem  \n",
       "0                A1  \n",
       "1                B+  \n",
       "2                A2  \n",
       "3                B1  \n",
       "4                A-  \n",
       "5                A1  \n",
       "6                A1  \n",
       "7                B1  \n",
       "8                A-  \n",
       "9                A2  \n",
       "\n",
       "[10 rows x 42 columns]"
      ]
     },
     "execution_count": 947,
     "metadata": {},
     "output_type": "execute_result"
    }
   ],
   "source": [
    "df.head(10)"
   ]
  },
  {
   "cell_type": "markdown",
   "metadata": {},
   "source": [
    "### Despues de un estudio previo se selecciona las columnas que tienen poca relevancia, y se procede a la eliminacion de las mismas"
   ]
  },
  {
   "cell_type": "code",
   "execution_count": 948,
   "metadata": {},
   "outputs": [],
   "source": [
    "df.drop(['estu_consecutivo','estu_nacimiento_fecha', 'estu_reside_coddpto','inst_mpio_programa','inst_dpto_programa','inst_programa_zona','inst_vlr_matricula_ant','econ_material_pisos'], axis=1, inplace=True)"
   ]
  },
  {
   "cell_type": "code",
   "execution_count": 949,
   "metadata": {},
   "outputs": [
    {
     "data": {
      "text/html": [
       "<div>\n",
       "<style scoped>\n",
       "    .dataframe tbody tr th:only-of-type {\n",
       "        vertical-align: middle;\n",
       "    }\n",
       "\n",
       "    .dataframe tbody tr th {\n",
       "        vertical-align: top;\n",
       "    }\n",
       "\n",
       "    .dataframe thead th {\n",
       "        text-align: right;\n",
       "    }\n",
       "</style>\n",
       "<table border=\"1\" class=\"dataframe\">\n",
       "  <thead>\n",
       "    <tr style=\"text-align: right;\">\n",
       "      <th></th>\n",
       "      <th>estu_genero</th>\n",
       "      <th>estu_edad_examen</th>\n",
       "      <th>estu_estado_civil</th>\n",
       "      <th>estu_discapacidad</th>\n",
       "      <th>estu_hogar_actual</th>\n",
       "      <th>fami_num_pers_grup_fam</th>\n",
       "      <th>estu_sn_cabeza_fmlia</th>\n",
       "      <th>estu_pers_cargo</th>\n",
       "      <th>fami_educa_padres</th>\n",
       "      <th>fami_cod_ocup_padre</th>\n",
       "      <th>...</th>\n",
       "      <th>econ_electrodomesticos</th>\n",
       "      <th>econ_sn_automovil</th>\n",
       "      <th>fami_ing_fmliar_mensual</th>\n",
       "      <th>estu_trabaja</th>\n",
       "      <th>mod_lectura_critica</th>\n",
       "      <th>mod_comunica_escrita_punt</th>\n",
       "      <th>mod_comunica_escrita_desem</th>\n",
       "      <th>mod_razona_cuantitativo_punt</th>\n",
       "      <th>mod_ingles_punt</th>\n",
       "      <th>mod_ingles_desem</th>\n",
       "    </tr>\n",
       "  </thead>\n",
       "  <tbody>\n",
       "    <tr>\n",
       "      <td>0</td>\n",
       "      <td>1</td>\n",
       "      <td>29.0</td>\n",
       "      <td>1</td>\n",
       "      <td>0</td>\n",
       "      <td>2.0</td>\n",
       "      <td>3.0</td>\n",
       "      <td>0.0</td>\n",
       "      <td>0.0</td>\n",
       "      <td>17.0</td>\n",
       "      <td>21.0</td>\n",
       "      <td>...</td>\n",
       "      <td>1</td>\n",
       "      <td>0.0</td>\n",
       "      <td>1.0</td>\n",
       "      <td>0.0</td>\n",
       "      <td>10.3</td>\n",
       "      <td>10.1</td>\n",
       "      <td>4.0</td>\n",
       "      <td>11.0</td>\n",
       "      <td>9.8</td>\n",
       "      <td>A1</td>\n",
       "    </tr>\n",
       "    <tr>\n",
       "      <td>1</td>\n",
       "      <td>2</td>\n",
       "      <td>24.0</td>\n",
       "      <td>1</td>\n",
       "      <td>0</td>\n",
       "      <td>1.0</td>\n",
       "      <td>5.0</td>\n",
       "      <td>0.0</td>\n",
       "      <td>0.0</td>\n",
       "      <td>14.0</td>\n",
       "      <td>26.0</td>\n",
       "      <td>...</td>\n",
       "      <td>1</td>\n",
       "      <td>0.0</td>\n",
       "      <td>4.0</td>\n",
       "      <td>5.0</td>\n",
       "      <td>11.2</td>\n",
       "      <td>11.7</td>\n",
       "      <td>6.0</td>\n",
       "      <td>10.2</td>\n",
       "      <td>12.3</td>\n",
       "      <td>B+</td>\n",
       "    </tr>\n",
       "    <tr>\n",
       "      <td>2</td>\n",
       "      <td>2</td>\n",
       "      <td>24.0</td>\n",
       "      <td>1</td>\n",
       "      <td>0</td>\n",
       "      <td>2.0</td>\n",
       "      <td>5.0</td>\n",
       "      <td>0.0</td>\n",
       "      <td>0.0</td>\n",
       "      <td>12.0</td>\n",
       "      <td>19.0</td>\n",
       "      <td>...</td>\n",
       "      <td>1</td>\n",
       "      <td>0.0</td>\n",
       "      <td>4.0</td>\n",
       "      <td>0.0</td>\n",
       "      <td>11.4</td>\n",
       "      <td>9.3</td>\n",
       "      <td>4.0</td>\n",
       "      <td>12.2</td>\n",
       "      <td>10.3</td>\n",
       "      <td>A2</td>\n",
       "    </tr>\n",
       "    <tr>\n",
       "      <td>3</td>\n",
       "      <td>2</td>\n",
       "      <td>21.0</td>\n",
       "      <td>1</td>\n",
       "      <td>0</td>\n",
       "      <td>1.0</td>\n",
       "      <td>4.0</td>\n",
       "      <td>0.0</td>\n",
       "      <td>0.0</td>\n",
       "      <td>9.0</td>\n",
       "      <td>26.0</td>\n",
       "      <td>...</td>\n",
       "      <td>1</td>\n",
       "      <td>0.0</td>\n",
       "      <td>3.0</td>\n",
       "      <td>0.0</td>\n",
       "      <td>11.2</td>\n",
       "      <td>9.5</td>\n",
       "      <td>4.0</td>\n",
       "      <td>11.4</td>\n",
       "      <td>10.6</td>\n",
       "      <td>B1</td>\n",
       "    </tr>\n",
       "    <tr>\n",
       "      <td>4</td>\n",
       "      <td>1</td>\n",
       "      <td>45.0</td>\n",
       "      <td>4</td>\n",
       "      <td>0</td>\n",
       "      <td>1.0</td>\n",
       "      <td>3.0</td>\n",
       "      <td>1.0</td>\n",
       "      <td>1.0</td>\n",
       "      <td>9.0</td>\n",
       "      <td>21.0</td>\n",
       "      <td>...</td>\n",
       "      <td>1</td>\n",
       "      <td>0.0</td>\n",
       "      <td>2.0</td>\n",
       "      <td>0.0</td>\n",
       "      <td>9.7</td>\n",
       "      <td>10.8</td>\n",
       "      <td>5.0</td>\n",
       "      <td>10.0</td>\n",
       "      <td>9.4</td>\n",
       "      <td>A-</td>\n",
       "    </tr>\n",
       "  </tbody>\n",
       "</table>\n",
       "<p>5 rows × 34 columns</p>\n",
       "</div>"
      ],
      "text/plain": [
       "   estu_genero  estu_edad_examen  estu_estado_civil  estu_discapacidad  \\\n",
       "0            1              29.0                  1                  0   \n",
       "1            2              24.0                  1                  0   \n",
       "2            2              24.0                  1                  0   \n",
       "3            2              21.0                  1                  0   \n",
       "4            1              45.0                  4                  0   \n",
       "\n",
       "   estu_hogar_actual  fami_num_pers_grup_fam  estu_sn_cabeza_fmlia  \\\n",
       "0                2.0                     3.0                   0.0   \n",
       "1                1.0                     5.0                   0.0   \n",
       "2                2.0                     5.0                   0.0   \n",
       "3                1.0                     4.0                   0.0   \n",
       "4                1.0                     3.0                   1.0   \n",
       "\n",
       "   estu_pers_cargo  fami_educa_padres  fami_cod_ocup_padre  ...  \\\n",
       "0              0.0               17.0                 21.0  ...   \n",
       "1              0.0               14.0                 26.0  ...   \n",
       "2              0.0               12.0                 19.0  ...   \n",
       "3              0.0                9.0                 26.0  ...   \n",
       "4              1.0                9.0                 21.0  ...   \n",
       "\n",
       "   econ_electrodomesticos  econ_sn_automovil  fami_ing_fmliar_mensual  \\\n",
       "0                       1                0.0                      1.0   \n",
       "1                       1                0.0                      4.0   \n",
       "2                       1                0.0                      4.0   \n",
       "3                       1                0.0                      3.0   \n",
       "4                       1                0.0                      2.0   \n",
       "\n",
       "   estu_trabaja  mod_lectura_critica  mod_comunica_escrita_punt  \\\n",
       "0           0.0                 10.3                       10.1   \n",
       "1           5.0                 11.2                       11.7   \n",
       "2           0.0                 11.4                        9.3   \n",
       "3           0.0                 11.2                        9.5   \n",
       "4           0.0                  9.7                       10.8   \n",
       "\n",
       "   mod_comunica_escrita_desem  mod_razona_cuantitativo_punt  mod_ingles_punt  \\\n",
       "0                         4.0                          11.0              9.8   \n",
       "1                         6.0                          10.2             12.3   \n",
       "2                         4.0                          12.2             10.3   \n",
       "3                         4.0                          11.4             10.6   \n",
       "4                         5.0                          10.0              9.4   \n",
       "\n",
       "   mod_ingles_desem  \n",
       "0                A1  \n",
       "1                B+  \n",
       "2                A2  \n",
       "3                B1  \n",
       "4                A-  \n",
       "\n",
       "[5 rows x 34 columns]"
      ]
     },
     "execution_count": 949,
     "metadata": {},
     "output_type": "execute_result"
    }
   ],
   "source": [
    "df.head()"
   ]
  },
  {
   "cell_type": "markdown",
   "metadata": {},
   "source": [
    "### Exploracion tipos de datos por cada columna "
   ]
  },
  {
   "cell_type": "code",
   "execution_count": 950,
   "metadata": {},
   "outputs": [
    {
     "data": {
      "text/plain": [
       "estu_genero                       int64\n",
       "estu_edad_examen                float64\n",
       "estu_estado_civil                 int64\n",
       "estu_discapacidad                 int64\n",
       "estu_hogar_actual               float64\n",
       "fami_num_pers_grup_fam          float64\n",
       "estu_sn_cabeza_fmlia            float64\n",
       "estu_pers_cargo                 float64\n",
       "fami_educa_padres               float64\n",
       "fami_cod_ocup_padre             float64\n",
       "fami_cod_ocup_madre             float64\n",
       "inst_tipo                         int64\n",
       "inst_caracter_academico           int64\n",
       "estu_metodo_prgm                  int64\n",
       "estu_area_conoc                   int64\n",
       "estu_grupo_referencia             int64\n",
       "estu_semestre_cursa             float64\n",
       "estu_titulo_bto                 float64\n",
       "estu_financiacion_matricula       int64\n",
       "estu_estrato                    float64\n",
       "estu_nivel_sisben               float64\n",
       "econ_sn_internet                float64\n",
       "econ_sn_servicio_tv             float64\n",
       "econ_sn_computador              float64\n",
       "econ_electrodomesticos            int64\n",
       "econ_sn_automovil               float64\n",
       "fami_ing_fmliar_mensual         float64\n",
       "estu_trabaja                    float64\n",
       "mod_lectura_critica             float64\n",
       "mod_comunica_escrita_punt       float64\n",
       "mod_comunica_escrita_desem      float64\n",
       "mod_razona_cuantitativo_punt    float64\n",
       "mod_ingles_punt                 float64\n",
       "mod_ingles_desem                 object\n",
       "dtype: object"
      ]
     },
     "execution_count": 950,
     "metadata": {},
     "output_type": "execute_result"
    }
   ],
   "source": [
    "df.dtypes"
   ]
  },
  {
   "cell_type": "markdown",
   "metadata": {},
   "source": [
    "### Cambio de nombre a cada columna para mejor manejo del dataset"
   ]
  },
  {
   "cell_type": "code",
   "execution_count": 951,
   "metadata": {},
   "outputs": [],
   "source": [
    "cabecera =[\"1\",\"2\",\"3\",\"4\",\"5\",\"6\",\"7\",\"8\",\"9\",\"10\",\"11\",\"12\",\"13\",\"14\",\"15\",\"16\",\"17\",\"18\",\"19\",\"20\",\"21\",\"22\",\"23\",\"24\",\"25\",\"26\",\"27\",\"28\",\"29\",\"30\",\"31\",\"32\",\"33\",\"34\"]"
   ]
  },
  {
   "cell_type": "code",
   "execution_count": 952,
   "metadata": {},
   "outputs": [],
   "source": [
    "df.columns=cabecera"
   ]
  },
  {
   "cell_type": "markdown",
   "metadata": {},
   "source": [
    "### Seleccion de variables de tipo Numerico"
   ]
  },
  {
   "cell_type": "code",
   "execution_count": 953,
   "metadata": {
    "scrolled": true
   },
   "outputs": [
    {
     "data": {
      "text/html": [
       "<div>\n",
       "<style scoped>\n",
       "    .dataframe tbody tr th:only-of-type {\n",
       "        vertical-align: middle;\n",
       "    }\n",
       "\n",
       "    .dataframe tbody tr th {\n",
       "        vertical-align: top;\n",
       "    }\n",
       "\n",
       "    .dataframe thead th {\n",
       "        text-align: right;\n",
       "    }\n",
       "</style>\n",
       "<table border=\"1\" class=\"dataframe\">\n",
       "  <thead>\n",
       "    <tr style=\"text-align: right;\">\n",
       "      <th></th>\n",
       "      <th>2</th>\n",
       "      <th>6</th>\n",
       "      <th>27</th>\n",
       "      <th>29</th>\n",
       "      <th>30</th>\n",
       "      <th>32</th>\n",
       "      <th>33</th>\n",
       "    </tr>\n",
       "  </thead>\n",
       "  <tbody>\n",
       "    <tr>\n",
       "      <td>0</td>\n",
       "      <td>29.0</td>\n",
       "      <td>3.0</td>\n",
       "      <td>1.0</td>\n",
       "      <td>10.3</td>\n",
       "      <td>10.1</td>\n",
       "      <td>11.0</td>\n",
       "      <td>9.8</td>\n",
       "    </tr>\n",
       "    <tr>\n",
       "      <td>1</td>\n",
       "      <td>24.0</td>\n",
       "      <td>5.0</td>\n",
       "      <td>4.0</td>\n",
       "      <td>11.2</td>\n",
       "      <td>11.7</td>\n",
       "      <td>10.2</td>\n",
       "      <td>12.3</td>\n",
       "    </tr>\n",
       "    <tr>\n",
       "      <td>2</td>\n",
       "      <td>24.0</td>\n",
       "      <td>5.0</td>\n",
       "      <td>4.0</td>\n",
       "      <td>11.4</td>\n",
       "      <td>9.3</td>\n",
       "      <td>12.2</td>\n",
       "      <td>10.3</td>\n",
       "    </tr>\n",
       "    <tr>\n",
       "      <td>3</td>\n",
       "      <td>21.0</td>\n",
       "      <td>4.0</td>\n",
       "      <td>3.0</td>\n",
       "      <td>11.2</td>\n",
       "      <td>9.5</td>\n",
       "      <td>11.4</td>\n",
       "      <td>10.6</td>\n",
       "    </tr>\n",
       "    <tr>\n",
       "      <td>4</td>\n",
       "      <td>45.0</td>\n",
       "      <td>3.0</td>\n",
       "      <td>2.0</td>\n",
       "      <td>9.7</td>\n",
       "      <td>10.8</td>\n",
       "      <td>10.0</td>\n",
       "      <td>9.4</td>\n",
       "    </tr>\n",
       "  </tbody>\n",
       "</table>\n",
       "</div>"
      ],
      "text/plain": [
       "      2    6   27    29    30    32    33\n",
       "0  29.0  3.0  1.0  10.3  10.1  11.0   9.8\n",
       "1  24.0  5.0  4.0  11.2  11.7  10.2  12.3\n",
       "2  24.0  5.0  4.0  11.4   9.3  12.2  10.3\n",
       "3  21.0  4.0  3.0  11.2   9.5  11.4  10.6\n",
       "4  45.0  3.0  2.0   9.7  10.8  10.0   9.4"
      ]
     },
     "execution_count": 953,
     "metadata": {},
     "output_type": "execute_result"
    }
   ],
   "source": [
    "df[['2','6','27','29','30','32','33']].head()"
   ]
  },
  {
   "cell_type": "markdown",
   "metadata": {},
   "source": [
    "### Seleccion de variables de tipo Categorico"
   ]
  },
  {
   "cell_type": "code",
   "execution_count": 954,
   "metadata": {},
   "outputs": [
    {
     "data": {
      "text/html": [
       "<div>\n",
       "<style scoped>\n",
       "    .dataframe tbody tr th:only-of-type {\n",
       "        vertical-align: middle;\n",
       "    }\n",
       "\n",
       "    .dataframe tbody tr th {\n",
       "        vertical-align: top;\n",
       "    }\n",
       "\n",
       "    .dataframe thead th {\n",
       "        text-align: right;\n",
       "    }\n",
       "</style>\n",
       "<table border=\"1\" class=\"dataframe\">\n",
       "  <thead>\n",
       "    <tr style=\"text-align: right;\">\n",
       "      <th></th>\n",
       "      <th>1</th>\n",
       "      <th>3</th>\n",
       "      <th>4</th>\n",
       "      <th>5</th>\n",
       "      <th>7</th>\n",
       "      <th>8</th>\n",
       "      <th>9</th>\n",
       "      <th>10</th>\n",
       "      <th>11</th>\n",
       "      <th>12</th>\n",
       "      <th>13</th>\n",
       "      <th>14</th>\n",
       "      <th>15</th>\n",
       "      <th>16</th>\n",
       "    </tr>\n",
       "  </thead>\n",
       "  <tbody>\n",
       "    <tr>\n",
       "      <td>0</td>\n",
       "      <td>1</td>\n",
       "      <td>1</td>\n",
       "      <td>0</td>\n",
       "      <td>2.0</td>\n",
       "      <td>0.0</td>\n",
       "      <td>0.0</td>\n",
       "      <td>17.0</td>\n",
       "      <td>21.0</td>\n",
       "      <td>23.0</td>\n",
       "      <td>4</td>\n",
       "      <td>7</td>\n",
       "      <td>1</td>\n",
       "      <td>4</td>\n",
       "      <td>18</td>\n",
       "    </tr>\n",
       "    <tr>\n",
       "      <td>1</td>\n",
       "      <td>2</td>\n",
       "      <td>1</td>\n",
       "      <td>0</td>\n",
       "      <td>1.0</td>\n",
       "      <td>0.0</td>\n",
       "      <td>0.0</td>\n",
       "      <td>14.0</td>\n",
       "      <td>26.0</td>\n",
       "      <td>19.0</td>\n",
       "      <td>4</td>\n",
       "      <td>7</td>\n",
       "      <td>1</td>\n",
       "      <td>4</td>\n",
       "      <td>18</td>\n",
       "    </tr>\n",
       "    <tr>\n",
       "      <td>2</td>\n",
       "      <td>2</td>\n",
       "      <td>1</td>\n",
       "      <td>0</td>\n",
       "      <td>2.0</td>\n",
       "      <td>0.0</td>\n",
       "      <td>0.0</td>\n",
       "      <td>12.0</td>\n",
       "      <td>19.0</td>\n",
       "      <td>21.0</td>\n",
       "      <td>3</td>\n",
       "      <td>7</td>\n",
       "      <td>1</td>\n",
       "      <td>4</td>\n",
       "      <td>18</td>\n",
       "    </tr>\n",
       "    <tr>\n",
       "      <td>3</td>\n",
       "      <td>2</td>\n",
       "      <td>1</td>\n",
       "      <td>0</td>\n",
       "      <td>1.0</td>\n",
       "      <td>0.0</td>\n",
       "      <td>0.0</td>\n",
       "      <td>9.0</td>\n",
       "      <td>26.0</td>\n",
       "      <td>18.0</td>\n",
       "      <td>3</td>\n",
       "      <td>7</td>\n",
       "      <td>1</td>\n",
       "      <td>4</td>\n",
       "      <td>18</td>\n",
       "    </tr>\n",
       "    <tr>\n",
       "      <td>4</td>\n",
       "      <td>1</td>\n",
       "      <td>4</td>\n",
       "      <td>0</td>\n",
       "      <td>1.0</td>\n",
       "      <td>1.0</td>\n",
       "      <td>1.0</td>\n",
       "      <td>9.0</td>\n",
       "      <td>21.0</td>\n",
       "      <td>22.0</td>\n",
       "      <td>3</td>\n",
       "      <td>7</td>\n",
       "      <td>1</td>\n",
       "      <td>8</td>\n",
       "      <td>18</td>\n",
       "    </tr>\n",
       "  </tbody>\n",
       "</table>\n",
       "</div>"
      ],
      "text/plain": [
       "   1  3  4    5    7    8     9    10    11  12  13  14  15  16\n",
       "0  1  1  0  2.0  0.0  0.0  17.0  21.0  23.0   4   7   1   4  18\n",
       "1  2  1  0  1.0  0.0  0.0  14.0  26.0  19.0   4   7   1   4  18\n",
       "2  2  1  0  2.0  0.0  0.0  12.0  19.0  21.0   3   7   1   4  18\n",
       "3  2  1  0  1.0  0.0  0.0   9.0  26.0  18.0   3   7   1   4  18\n",
       "4  1  4  0  1.0  1.0  1.0   9.0  21.0  22.0   3   7   1   8  18"
      ]
     },
     "execution_count": 954,
     "metadata": {},
     "output_type": "execute_result"
    }
   ],
   "source": [
    "df[['1','3','4','5','7','8','9','10','11','12','13','14','15','16']].head()"
   ]
  },
  {
   "cell_type": "code",
   "execution_count": 955,
   "metadata": {
    "scrolled": true
   },
   "outputs": [
    {
     "data": {
      "text/html": [
       "<div>\n",
       "<style scoped>\n",
       "    .dataframe tbody tr th:only-of-type {\n",
       "        vertical-align: middle;\n",
       "    }\n",
       "\n",
       "    .dataframe tbody tr th {\n",
       "        vertical-align: top;\n",
       "    }\n",
       "\n",
       "    .dataframe thead th {\n",
       "        text-align: right;\n",
       "    }\n",
       "</style>\n",
       "<table border=\"1\" class=\"dataframe\">\n",
       "  <thead>\n",
       "    <tr style=\"text-align: right;\">\n",
       "      <th></th>\n",
       "      <th>17</th>\n",
       "      <th>18</th>\n",
       "      <th>19</th>\n",
       "      <th>20</th>\n",
       "      <th>21</th>\n",
       "      <th>22</th>\n",
       "      <th>23</th>\n",
       "      <th>24</th>\n",
       "      <th>25</th>\n",
       "      <th>26</th>\n",
       "      <th>28</th>\n",
       "      <th>31</th>\n",
       "      <th>34</th>\n",
       "    </tr>\n",
       "  </thead>\n",
       "  <tbody>\n",
       "    <tr>\n",
       "      <td>0</td>\n",
       "      <td>9.0</td>\n",
       "      <td>1.0</td>\n",
       "      <td>100</td>\n",
       "      <td>3.0</td>\n",
       "      <td>3.0</td>\n",
       "      <td>1.0</td>\n",
       "      <td>1.0</td>\n",
       "      <td>1.0</td>\n",
       "      <td>1</td>\n",
       "      <td>0.0</td>\n",
       "      <td>0.0</td>\n",
       "      <td>4.0</td>\n",
       "      <td>A1</td>\n",
       "    </tr>\n",
       "    <tr>\n",
       "      <td>1</td>\n",
       "      <td>9.0</td>\n",
       "      <td>1.0</td>\n",
       "      <td>1001</td>\n",
       "      <td>2.0</td>\n",
       "      <td>2.0</td>\n",
       "      <td>1.0</td>\n",
       "      <td>1.0</td>\n",
       "      <td>1.0</td>\n",
       "      <td>1</td>\n",
       "      <td>0.0</td>\n",
       "      <td>5.0</td>\n",
       "      <td>6.0</td>\n",
       "      <td>B+</td>\n",
       "    </tr>\n",
       "    <tr>\n",
       "      <td>2</td>\n",
       "      <td>10.0</td>\n",
       "      <td>2.0</td>\n",
       "      <td>101</td>\n",
       "      <td>3.0</td>\n",
       "      <td>1.0</td>\n",
       "      <td>0.0</td>\n",
       "      <td>1.0</td>\n",
       "      <td>0.0</td>\n",
       "      <td>1</td>\n",
       "      <td>0.0</td>\n",
       "      <td>0.0</td>\n",
       "      <td>4.0</td>\n",
       "      <td>A2</td>\n",
       "    </tr>\n",
       "    <tr>\n",
       "      <td>3</td>\n",
       "      <td>9.0</td>\n",
       "      <td>1.0</td>\n",
       "      <td>100</td>\n",
       "      <td>2.0</td>\n",
       "      <td>5.0</td>\n",
       "      <td>1.0</td>\n",
       "      <td>1.0</td>\n",
       "      <td>1.0</td>\n",
       "      <td>1</td>\n",
       "      <td>0.0</td>\n",
       "      <td>0.0</td>\n",
       "      <td>4.0</td>\n",
       "      <td>B1</td>\n",
       "    </tr>\n",
       "    <tr>\n",
       "      <td>4</td>\n",
       "      <td>10.0</td>\n",
       "      <td>1.0</td>\n",
       "      <td>1001</td>\n",
       "      <td>2.0</td>\n",
       "      <td>3.0</td>\n",
       "      <td>1.0</td>\n",
       "      <td>1.0</td>\n",
       "      <td>1.0</td>\n",
       "      <td>1</td>\n",
       "      <td>0.0</td>\n",
       "      <td>0.0</td>\n",
       "      <td>5.0</td>\n",
       "      <td>A-</td>\n",
       "    </tr>\n",
       "  </tbody>\n",
       "</table>\n",
       "</div>"
      ],
      "text/plain": [
       "     17   18    19   20   21   22   23   24  25   26   28   31  34\n",
       "0   9.0  1.0   100  3.0  3.0  1.0  1.0  1.0   1  0.0  0.0  4.0  A1\n",
       "1   9.0  1.0  1001  2.0  2.0  1.0  1.0  1.0   1  0.0  5.0  6.0  B+\n",
       "2  10.0  2.0   101  3.0  1.0  0.0  1.0  0.0   1  0.0  0.0  4.0  A2\n",
       "3   9.0  1.0   100  2.0  5.0  1.0  1.0  1.0   1  0.0  0.0  4.0  B1\n",
       "4  10.0  1.0  1001  2.0  3.0  1.0  1.0  1.0   1  0.0  0.0  5.0  A-"
      ]
     },
     "execution_count": 955,
     "metadata": {},
     "output_type": "execute_result"
    }
   ],
   "source": [
    "df[['17','18','19','20','21','22','23','24','25','26','28','31','34']].head()"
   ]
  },
  {
   "cell_type": "code",
   "execution_count": 956,
   "metadata": {},
   "outputs": [
    {
     "data": {
      "text/html": [
       "<div>\n",
       "<style scoped>\n",
       "    .dataframe tbody tr th:only-of-type {\n",
       "        vertical-align: middle;\n",
       "    }\n",
       "\n",
       "    .dataframe tbody tr th {\n",
       "        vertical-align: top;\n",
       "    }\n",
       "\n",
       "    .dataframe thead th {\n",
       "        text-align: right;\n",
       "    }\n",
       "</style>\n",
       "<table border=\"1\" class=\"dataframe\">\n",
       "  <thead>\n",
       "    <tr style=\"text-align: right;\">\n",
       "      <th></th>\n",
       "      <th>2</th>\n",
       "      <th>6</th>\n",
       "      <th>27</th>\n",
       "      <th>29</th>\n",
       "      <th>30</th>\n",
       "      <th>32</th>\n",
       "      <th>33</th>\n",
       "    </tr>\n",
       "  </thead>\n",
       "  <tbody>\n",
       "    <tr>\n",
       "      <td>count</td>\n",
       "      <td>96986.000000</td>\n",
       "      <td>96983.000000</td>\n",
       "      <td>97066.000000</td>\n",
       "      <td>97068.000000</td>\n",
       "      <td>95337.000000</td>\n",
       "      <td>97068.000000</td>\n",
       "      <td>97068.000000</td>\n",
       "    </tr>\n",
       "    <tr>\n",
       "      <td>mean</td>\n",
       "      <td>26.027942</td>\n",
       "      <td>4.066630</td>\n",
       "      <td>3.205118</td>\n",
       "      <td>10.242828</td>\n",
       "      <td>10.151004</td>\n",
       "      <td>10.185092</td>\n",
       "      <td>10.327429</td>\n",
       "    </tr>\n",
       "    <tr>\n",
       "      <td>std</td>\n",
       "      <td>6.411956</td>\n",
       "      <td>1.640153</td>\n",
       "      <td>1.454395</td>\n",
       "      <td>0.979949</td>\n",
       "      <td>1.005897</td>\n",
       "      <td>1.037342</td>\n",
       "      <td>1.301158</td>\n",
       "    </tr>\n",
       "    <tr>\n",
       "      <td>min</td>\n",
       "      <td>9.000000</td>\n",
       "      <td>1.000000</td>\n",
       "      <td>1.000000</td>\n",
       "      <td>0.000000</td>\n",
       "      <td>6.800000</td>\n",
       "      <td>0.000000</td>\n",
       "      <td>0.000000</td>\n",
       "    </tr>\n",
       "    <tr>\n",
       "      <td>25%</td>\n",
       "      <td>22.000000</td>\n",
       "      <td>3.000000</td>\n",
       "      <td>2.000000</td>\n",
       "      <td>9.600000</td>\n",
       "      <td>9.500000</td>\n",
       "      <td>9.500000</td>\n",
       "      <td>9.500000</td>\n",
       "    </tr>\n",
       "    <tr>\n",
       "      <td>50%</td>\n",
       "      <td>24.000000</td>\n",
       "      <td>4.000000</td>\n",
       "      <td>3.000000</td>\n",
       "      <td>10.300000</td>\n",
       "      <td>10.100000</td>\n",
       "      <td>10.000000</td>\n",
       "      <td>10.000000</td>\n",
       "    </tr>\n",
       "    <tr>\n",
       "      <td>75%</td>\n",
       "      <td>28.000000</td>\n",
       "      <td>5.000000</td>\n",
       "      <td>4.000000</td>\n",
       "      <td>10.800000</td>\n",
       "      <td>10.800000</td>\n",
       "      <td>10.800000</td>\n",
       "      <td>10.800000</td>\n",
       "    </tr>\n",
       "    <tr>\n",
       "      <td>max</td>\n",
       "      <td>74.000000</td>\n",
       "      <td>12.000000</td>\n",
       "      <td>7.000000</td>\n",
       "      <td>15.700000</td>\n",
       "      <td>13.100000</td>\n",
       "      <td>15.800000</td>\n",
       "      <td>14.900000</td>\n",
       "    </tr>\n",
       "  </tbody>\n",
       "</table>\n",
       "</div>"
      ],
      "text/plain": [
       "                  2             6            27            29            30  \\\n",
       "count  96986.000000  96983.000000  97066.000000  97068.000000  95337.000000   \n",
       "mean      26.027942      4.066630      3.205118     10.242828     10.151004   \n",
       "std        6.411956      1.640153      1.454395      0.979949      1.005897   \n",
       "min        9.000000      1.000000      1.000000      0.000000      6.800000   \n",
       "25%       22.000000      3.000000      2.000000      9.600000      9.500000   \n",
       "50%       24.000000      4.000000      3.000000     10.300000     10.100000   \n",
       "75%       28.000000      5.000000      4.000000     10.800000     10.800000   \n",
       "max       74.000000     12.000000      7.000000     15.700000     13.100000   \n",
       "\n",
       "                 32            33  \n",
       "count  97068.000000  97068.000000  \n",
       "mean      10.185092     10.327429  \n",
       "std        1.037342      1.301158  \n",
       "min        0.000000      0.000000  \n",
       "25%        9.500000      9.500000  \n",
       "50%       10.000000     10.000000  \n",
       "75%       10.800000     10.800000  \n",
       "max       15.800000     14.900000  "
      ]
     },
     "execution_count": 956,
     "metadata": {},
     "output_type": "execute_result"
    }
   ],
   "source": [
    "df[['2','6','27','29','30','32','33']].describe()"
   ]
  },
  {
   "cell_type": "code",
   "execution_count": 957,
   "metadata": {},
   "outputs": [
    {
     "data": {
      "text/plain": [
       "2     6.411956\n",
       "6     1.640153\n",
       "27    1.454395\n",
       "29    0.979949\n",
       "30    1.005897\n",
       "32    1.037342\n",
       "33    1.301158\n",
       "dtype: float64"
      ]
     },
     "execution_count": 957,
     "metadata": {},
     "output_type": "execute_result"
    }
   ],
   "source": [
    "df[['2','6','27','29','30','32','33']].std()"
   ]
  },
  {
   "cell_type": "markdown",
   "metadata": {},
   "source": [
    "### Indentificacion de datos null o perdidos por cada columna"
   ]
  },
  {
   "cell_type": "code",
   "execution_count": 958,
   "metadata": {},
   "outputs": [],
   "source": [
    "total_valores_perdidos = df.isnull().sum()"
   ]
  },
  {
   "cell_type": "code",
   "execution_count": 959,
   "metadata": {},
   "outputs": [
    {
     "data": {
      "text/plain": [
       "1        0\n",
       "2       82\n",
       "3        0\n",
       "4        0\n",
       "5        2\n",
       "6       85\n",
       "7        2\n",
       "8       85\n",
       "9        2\n",
       "10       2\n",
       "11       2\n",
       "12       0\n",
       "13       0\n",
       "14       0\n",
       "15       0\n",
       "16       0\n",
       "17     127\n",
       "18       2\n",
       "19       0\n",
       "20       1\n",
       "21       2\n",
       "22       2\n",
       "23       2\n",
       "24       2\n",
       "25       0\n",
       "26       2\n",
       "27       2\n",
       "28       6\n",
       "29       0\n",
       "30    1731\n",
       "31    1731\n",
       "32       0\n",
       "33       0\n",
       "34       0\n",
       "dtype: int64"
      ]
     },
     "execution_count": 959,
     "metadata": {},
     "output_type": "execute_result"
    }
   ],
   "source": [
    "total_valores_perdidos"
   ]
  },
  {
   "cell_type": "code",
   "execution_count": 960,
   "metadata": {},
   "outputs": [
    {
     "data": {
      "text/plain": [
       "3300312"
      ]
     },
     "execution_count": 960,
     "metadata": {},
     "output_type": "execute_result"
    }
   ],
   "source": [
    "total_celdas = np.product(df.shape)\n",
    "total_celdas"
   ]
  },
  {
   "cell_type": "code",
   "execution_count": 961,
   "metadata": {},
   "outputs": [
    {
     "data": {
      "text/plain": [
       "3872"
      ]
     },
     "execution_count": 961,
     "metadata": {},
     "output_type": "execute_result"
    }
   ],
   "source": [
    "total_perdidos = total_valores_perdidos.sum()\n",
    "total_perdidos"
   ]
  },
  {
   "cell_type": "markdown",
   "metadata": {},
   "source": [
    "### Porcentaje de perdida de datos"
   ]
  },
  {
   "cell_type": "code",
   "execution_count": 962,
   "metadata": {},
   "outputs": [
    {
     "data": {
      "text/plain": [
       "0.1173222410487251"
      ]
     },
     "execution_count": 962,
     "metadata": {},
     "output_type": "execute_result"
    }
   ],
   "source": [
    "total_perdidos/total_celdas*100"
   ]
  },
  {
   "cell_type": "markdown",
   "metadata": {},
   "source": [
    "### Para corregir el tema de datos perdidos se toma la desicion de cambiar las variables de tipo numerico  con la media de los datos de cada columna."
   ]
  },
  {
   "cell_type": "code",
   "execution_count": 963,
   "metadata": {},
   "outputs": [
    {
     "data": {
      "text/plain": [
       "26.027942177221455"
      ]
     },
     "execution_count": 963,
     "metadata": {},
     "output_type": "execute_result"
    }
   ],
   "source": [
    "df[\"2\"].mean()"
   ]
  },
  {
   "cell_type": "code",
   "execution_count": 964,
   "metadata": {},
   "outputs": [],
   "source": [
    "mean_edad=26"
   ]
  },
  {
   "cell_type": "code",
   "execution_count": 965,
   "metadata": {},
   "outputs": [],
   "source": [
    "df[\"2\"].replace(np.nan, mean_edad, inplace=True)"
   ]
  },
  {
   "cell_type": "code",
   "execution_count": 966,
   "metadata": {},
   "outputs": [
    {
     "data": {
      "text/plain": [
       "4.066630234164751"
      ]
     },
     "execution_count": 966,
     "metadata": {},
     "output_type": "execute_result"
    }
   ],
   "source": [
    "df[\"6\"].mean()"
   ]
  },
  {
   "cell_type": "code",
   "execution_count": 967,
   "metadata": {},
   "outputs": [],
   "source": [
    "mean_pers_grup_flia = 4"
   ]
  },
  {
   "cell_type": "code",
   "execution_count": 968,
   "metadata": {},
   "outputs": [],
   "source": [
    "df[\"6\"].replace(np.nan, mean_pers_grup_flia, inplace=True)"
   ]
  },
  {
   "cell_type": "code",
   "execution_count": 969,
   "metadata": {},
   "outputs": [
    {
     "data": {
      "text/plain": [
       "0.5538702659228937"
      ]
     },
     "execution_count": 969,
     "metadata": {},
     "output_type": "execute_result"
    }
   ],
   "source": [
    "df[\"8\"].mean()"
   ]
  },
  {
   "cell_type": "code",
   "execution_count": 970,
   "metadata": {},
   "outputs": [],
   "source": [
    "mean_pers_cargo = 0"
   ]
  },
  {
   "cell_type": "code",
   "execution_count": 971,
   "metadata": {},
   "outputs": [],
   "source": [
    "df[\"8\"].replace(np.nan, mean_pers_cargo, inplace=True)"
   ]
  },
  {
   "cell_type": "code",
   "execution_count": 972,
   "metadata": {},
   "outputs": [
    {
     "data": {
      "text/plain": [
       "3.205118167020378"
      ]
     },
     "execution_count": 972,
     "metadata": {},
     "output_type": "execute_result"
    }
   ],
   "source": [
    "df[\"27\"].mean()"
   ]
  },
  {
   "cell_type": "code",
   "execution_count": 973,
   "metadata": {},
   "outputs": [],
   "source": [
    "mean_ingres_fam = 3"
   ]
  },
  {
   "cell_type": "code",
   "execution_count": 974,
   "metadata": {},
   "outputs": [],
   "source": [
    "df[\"27\"].replace(np.nan, mean_ingres_fam, inplace=True)"
   ]
  },
  {
   "cell_type": "code",
   "execution_count": 975,
   "metadata": {},
   "outputs": [
    {
     "data": {
      "text/plain": [
       "10.151004332001238"
      ]
     },
     "execution_count": 975,
     "metadata": {},
     "output_type": "execute_result"
    }
   ],
   "source": [
    "df[\"30\"].mean()"
   ]
  },
  {
   "cell_type": "code",
   "execution_count": 976,
   "metadata": {},
   "outputs": [],
   "source": [
    "mean_esc_punt = 10.15"
   ]
  },
  {
   "cell_type": "code",
   "execution_count": 977,
   "metadata": {},
   "outputs": [],
   "source": [
    "df[\"30\"].replace(np.nan, mean_esc_punt, inplace=True)"
   ]
  },
  {
   "cell_type": "code",
   "execution_count": 978,
   "metadata": {},
   "outputs": [
    {
     "data": {
      "text/html": [
       "<div>\n",
       "<style scoped>\n",
       "    .dataframe tbody tr th:only-of-type {\n",
       "        vertical-align: middle;\n",
       "    }\n",
       "\n",
       "    .dataframe tbody tr th {\n",
       "        vertical-align: top;\n",
       "    }\n",
       "\n",
       "    .dataframe thead th {\n",
       "        text-align: right;\n",
       "    }\n",
       "</style>\n",
       "<table border=\"1\" class=\"dataframe\">\n",
       "  <thead>\n",
       "    <tr style=\"text-align: right;\">\n",
       "      <th></th>\n",
       "      <th>2</th>\n",
       "      <th>6</th>\n",
       "      <th>27</th>\n",
       "      <th>29</th>\n",
       "      <th>30</th>\n",
       "      <th>32</th>\n",
       "      <th>33</th>\n",
       "    </tr>\n",
       "  </thead>\n",
       "  <tbody>\n",
       "    <tr>\n",
       "      <td>count</td>\n",
       "      <td>97068.000000</td>\n",
       "      <td>97068.000000</td>\n",
       "      <td>97068.000000</td>\n",
       "      <td>97068.000000</td>\n",
       "      <td>97068.000000</td>\n",
       "      <td>97068.000000</td>\n",
       "      <td>97068.000000</td>\n",
       "    </tr>\n",
       "    <tr>\n",
       "      <td>mean</td>\n",
       "      <td>26.027919</td>\n",
       "      <td>4.066572</td>\n",
       "      <td>3.205114</td>\n",
       "      <td>10.242828</td>\n",
       "      <td>10.150986</td>\n",
       "      <td>10.185092</td>\n",
       "      <td>10.327429</td>\n",
       "    </tr>\n",
       "    <tr>\n",
       "      <td>std</td>\n",
       "      <td>6.409248</td>\n",
       "      <td>1.639436</td>\n",
       "      <td>1.454380</td>\n",
       "      <td>0.979949</td>\n",
       "      <td>0.996888</td>\n",
       "      <td>1.037342</td>\n",
       "      <td>1.301158</td>\n",
       "    </tr>\n",
       "    <tr>\n",
       "      <td>min</td>\n",
       "      <td>9.000000</td>\n",
       "      <td>1.000000</td>\n",
       "      <td>1.000000</td>\n",
       "      <td>0.000000</td>\n",
       "      <td>6.800000</td>\n",
       "      <td>0.000000</td>\n",
       "      <td>0.000000</td>\n",
       "    </tr>\n",
       "    <tr>\n",
       "      <td>25%</td>\n",
       "      <td>22.000000</td>\n",
       "      <td>3.000000</td>\n",
       "      <td>2.000000</td>\n",
       "      <td>9.600000</td>\n",
       "      <td>9.500000</td>\n",
       "      <td>9.500000</td>\n",
       "      <td>9.500000</td>\n",
       "    </tr>\n",
       "    <tr>\n",
       "      <td>50%</td>\n",
       "      <td>24.000000</td>\n",
       "      <td>4.000000</td>\n",
       "      <td>3.000000</td>\n",
       "      <td>10.300000</td>\n",
       "      <td>10.150000</td>\n",
       "      <td>10.000000</td>\n",
       "      <td>10.000000</td>\n",
       "    </tr>\n",
       "    <tr>\n",
       "      <td>75%</td>\n",
       "      <td>28.000000</td>\n",
       "      <td>5.000000</td>\n",
       "      <td>4.000000</td>\n",
       "      <td>10.800000</td>\n",
       "      <td>10.800000</td>\n",
       "      <td>10.800000</td>\n",
       "      <td>10.800000</td>\n",
       "    </tr>\n",
       "    <tr>\n",
       "      <td>max</td>\n",
       "      <td>74.000000</td>\n",
       "      <td>12.000000</td>\n",
       "      <td>7.000000</td>\n",
       "      <td>15.700000</td>\n",
       "      <td>13.100000</td>\n",
       "      <td>15.800000</td>\n",
       "      <td>14.900000</td>\n",
       "    </tr>\n",
       "  </tbody>\n",
       "</table>\n",
       "</div>"
      ],
      "text/plain": [
       "                  2             6            27            29            30  \\\n",
       "count  97068.000000  97068.000000  97068.000000  97068.000000  97068.000000   \n",
       "mean      26.027919      4.066572      3.205114     10.242828     10.150986   \n",
       "std        6.409248      1.639436      1.454380      0.979949      0.996888   \n",
       "min        9.000000      1.000000      1.000000      0.000000      6.800000   \n",
       "25%       22.000000      3.000000      2.000000      9.600000      9.500000   \n",
       "50%       24.000000      4.000000      3.000000     10.300000     10.150000   \n",
       "75%       28.000000      5.000000      4.000000     10.800000     10.800000   \n",
       "max       74.000000     12.000000      7.000000     15.700000     13.100000   \n",
       "\n",
       "                 32            33  \n",
       "count  97068.000000  97068.000000  \n",
       "mean      10.185092     10.327429  \n",
       "std        1.037342      1.301158  \n",
       "min        0.000000      0.000000  \n",
       "25%        9.500000      9.500000  \n",
       "50%       10.000000     10.000000  \n",
       "75%       10.800000     10.800000  \n",
       "max       15.800000     14.900000  "
      ]
     },
     "execution_count": 978,
     "metadata": {},
     "output_type": "execute_result"
    }
   ],
   "source": [
    "df[['2','6','27','29','30','32','33']].describe()"
   ]
  },
  {
   "cell_type": "markdown",
   "metadata": {},
   "source": [
    "### Los datos perdidos se de las variables de tipo categoricos con la frecuencia de los datos de cada columna."
   ]
  },
  {
   "cell_type": "code",
   "execution_count": 979,
   "metadata": {},
   "outputs": [
    {
     "data": {
      "text/plain": [
       "2    56830\n",
       "1    40238\n",
       "Name: 1, dtype: int64"
      ]
     },
     "execution_count": 979,
     "metadata": {},
     "output_type": "execute_result"
    }
   ],
   "source": [
    "pd.value_counts(df['1'])"
   ]
  },
  {
   "cell_type": "code",
   "execution_count": 980,
   "metadata": {},
   "outputs": [
    {
     "data": {
      "text/plain": [
       "1    77957\n",
       "2    10488\n",
       "5     7176\n",
       "4     1283\n",
       "3      164\n",
       "Name: 3, dtype: int64"
      ]
     },
     "execution_count": 980,
     "metadata": {},
     "output_type": "execute_result"
    }
   ],
   "source": [
    "pd.value_counts(df['3'])"
   ]
  },
  {
   "cell_type": "code",
   "execution_count": 981,
   "metadata": {},
   "outputs": [
    {
     "data": {
      "text/plain": [
       "0     96958\n",
       "2        74\n",
       "16       13\n",
       "8        12\n",
       "4        11\n",
       "Name: 4, dtype: int64"
      ]
     },
     "execution_count": 981,
     "metadata": {},
     "output_type": "execute_result"
    }
   ],
   "source": [
    "pd.value_counts(df['4'])"
   ]
  },
  {
   "cell_type": "code",
   "execution_count": 982,
   "metadata": {},
   "outputs": [
    {
     "data": {
      "text/plain": [
       "1.0    79514\n",
       "2.0    17552\n",
       "Name: 5, dtype: int64"
      ]
     },
     "execution_count": 982,
     "metadata": {},
     "output_type": "execute_result"
    }
   ],
   "source": [
    "pd.value_counts(df['5'])"
   ]
  },
  {
   "cell_type": "code",
   "execution_count": 983,
   "metadata": {},
   "outputs": [],
   "source": [
    "df[\"5\"].replace(np.nan, 1.0, inplace=True)"
   ]
  },
  {
   "cell_type": "code",
   "execution_count": 984,
   "metadata": {},
   "outputs": [
    {
     "data": {
      "text/plain": [
       "0.0    80617\n",
       "1.0    16449\n",
       "Name: 7, dtype: int64"
      ]
     },
     "execution_count": 984,
     "metadata": {},
     "output_type": "execute_result"
    }
   ],
   "source": [
    "pd.value_counts(df['7'])"
   ]
  },
  {
   "cell_type": "code",
   "execution_count": 985,
   "metadata": {},
   "outputs": [],
   "source": [
    "df[\"7\"].replace(np.nan, 0.0, inplace=True)"
   ]
  },
  {
   "cell_type": "code",
   "execution_count": 986,
   "metadata": {},
   "outputs": [
    {
     "data": {
      "text/plain": [
       "12.0    19965\n",
       "16.0    17915\n",
       "11.0    11690\n",
       "17.0    10964\n",
       "14.0    10208\n",
       "10.0     9980\n",
       "9.0      8875\n",
       "15.0     3501\n",
       "13.0     3303\n",
       "0.0       665\n",
       "Name: 9, dtype: int64"
      ]
     },
     "execution_count": 986,
     "metadata": {},
     "output_type": "execute_result"
    }
   ],
   "source": [
    "pd.value_counts(df['9'])"
   ]
  },
  {
   "cell_type": "code",
   "execution_count": 987,
   "metadata": {},
   "outputs": [],
   "source": [
    "df[\"9\"].replace(np.nan, 12.0, inplace=True)"
   ]
  },
  {
   "cell_type": "code",
   "execution_count": 988,
   "metadata": {},
   "outputs": [
    {
     "data": {
      "text/plain": [
       "21.0    24022\n",
       "23.0    12119\n",
       "14.0    10948\n",
       "26.0    10476\n",
       "19.0     9463\n",
       "17.0     7693\n",
       "20.0     6014\n",
       "16.0     4537\n",
       "13.0     3757\n",
       "18.0     3547\n",
       "15.0     2535\n",
       "22.0     1955\n",
       "Name: 10, dtype: int64"
      ]
     },
     "execution_count": 988,
     "metadata": {},
     "output_type": "execute_result"
    }
   ],
   "source": [
    "pd.value_counts(df['10'])"
   ]
  },
  {
   "cell_type": "code",
   "execution_count": 989,
   "metadata": {},
   "outputs": [],
   "source": [
    "df[\"10\"].replace(np.nan, 21.0, inplace=True)"
   ]
  },
  {
   "cell_type": "code",
   "execution_count": 990,
   "metadata": {},
   "outputs": [
    {
     "data": {
      "text/plain": [
       "22.0    41251\n",
       "21.0    10857\n",
       "17.0     7012\n",
       "23.0     6490\n",
       "26.0     5999\n",
       "19.0     5774\n",
       "14.0     5152\n",
       "18.0     4042\n",
       "16.0     3990\n",
       "20.0     3331\n",
       "13.0     1678\n",
       "15.0     1490\n",
       "Name: 11, dtype: int64"
      ]
     },
     "execution_count": 990,
     "metadata": {},
     "output_type": "execute_result"
    }
   ],
   "source": [
    "pd.value_counts(df['11'])"
   ]
  },
  {
   "cell_type": "code",
   "execution_count": 991,
   "metadata": {},
   "outputs": [],
   "source": [
    "df[\"11\"].replace(np.nan, 22.0, inplace=True)"
   ]
  },
  {
   "cell_type": "code",
   "execution_count": 992,
   "metadata": {},
   "outputs": [
    {
     "data": {
      "text/plain": [
       "3    58149\n",
       "4    38872\n",
       "8       47\n",
       "Name: 12, dtype: int64"
      ]
     },
     "execution_count": 992,
     "metadata": {},
     "output_type": "execute_result"
    }
   ],
   "source": [
    "pd.value_counts(df['12'])"
   ]
  },
  {
   "cell_type": "code",
   "execution_count": 993,
   "metadata": {},
   "outputs": [
    {
     "data": {
      "text/plain": [
       "7    73674\n",
       "4    20479\n",
       "6     1504\n",
       "3      988\n",
       "2      423\n",
       "Name: 13, dtype: int64"
      ]
     },
     "execution_count": 993,
     "metadata": {},
     "output_type": "execute_result"
    }
   ],
   "source": [
    "pd.value_counts(df['13'])"
   ]
  },
  {
   "cell_type": "code",
   "execution_count": 994,
   "metadata": {},
   "outputs": [
    {
     "data": {
      "text/plain": [
       "1    84278\n",
       "2    12256\n",
       "3      531\n",
       "4        3\n",
       "Name: 14, dtype: int64"
      ]
     },
     "execution_count": 994,
     "metadata": {},
     "output_type": "execute_result"
    }
   ],
   "source": [
    "pd.value_counts(df['14'])"
   ]
  },
  {
   "cell_type": "code",
   "execution_count": 995,
   "metadata": {},
   "outputs": [
    {
     "data": {
      "text/plain": [
       "6    27098\n",
       "5    21074\n",
       "7    20692\n",
       "3    11851\n",
       "4     9662\n",
       "2     3250\n",
       "8     1918\n",
       "1     1523\n",
       "Name: 15, dtype: int64"
      ]
     },
     "execution_count": 995,
     "metadata": {},
     "output_type": "execute_result"
    }
   ],
   "source": [
    "pd.value_counts(df['15'])"
   ]
  },
  {
   "cell_type": "code",
   "execution_count": 996,
   "metadata": {},
   "outputs": [
    {
     "data": {
      "text/plain": [
       "5     26620\n",
       "14    18903\n",
       "11    12001\n",
       "10    10703\n",
       "18     6885\n",
       "8      5810\n",
       "9      3728\n",
       "15     3016\n",
       "3      2435\n",
       "4      2071\n",
       "7      1687\n",
       "1      1235\n",
       "13      738\n",
       "16      509\n",
       "17      422\n",
       "12      141\n",
       "6       134\n",
       "2        30\n",
       "Name: 16, dtype: int64"
      ]
     },
     "execution_count": 996,
     "metadata": {},
     "output_type": "execute_result"
    }
   ],
   "source": [
    "pd.value_counts(df['16'])"
   ]
  },
  {
   "cell_type": "code",
   "execution_count": 997,
   "metadata": {},
   "outputs": [
    {
     "data": {
      "text/plain": [
       "10.0    38491\n",
       "9.0     31536\n",
       "8.0     10731\n",
       "11.0     5681\n",
       "12.0     4640\n",
       "7.0      2591\n",
       "6.0      1131\n",
       "1.0       881\n",
       "5.0       817\n",
       "4.0       306\n",
       "2.0        84\n",
       "3.0        52\n",
       "Name: 17, dtype: int64"
      ]
     },
     "execution_count": 997,
     "metadata": {},
     "output_type": "execute_result"
    }
   ],
   "source": [
    "pd.value_counts(df['17'])"
   ]
  },
  {
   "cell_type": "code",
   "execution_count": 998,
   "metadata": {},
   "outputs": [],
   "source": [
    "df[\"17\"].replace(np.nan, 10.0, inplace=True)"
   ]
  },
  {
   "cell_type": "code",
   "execution_count": 999,
   "metadata": {},
   "outputs": [
    {
     "data": {
      "text/plain": [
       "1.0    74172\n",
       "3.0    18604\n",
       "2.0     4290\n",
       "Name: 18, dtype: int64"
      ]
     },
     "execution_count": 999,
     "metadata": {},
     "output_type": "execute_result"
    }
   ],
   "source": [
    "pd.value_counts(df['18'])"
   ]
  },
  {
   "cell_type": "code",
   "execution_count": 1000,
   "metadata": {},
   "outputs": [],
   "source": [
    "df[\"18\"].replace(np.nan, 1.0, inplace=True)"
   ]
  },
  {
   "cell_type": "code",
   "execution_count": 1001,
   "metadata": {},
   "outputs": [
    {
     "data": {
      "text/plain": [
       "100     38664\n",
       "1000    18738\n",
       "1       12302\n",
       "101      5945\n",
       "1100     4732\n",
       "0        3644\n",
       "1001     3243\n",
       "10       2924\n",
       "110      2194\n",
       "1010     1479\n",
       "11        924\n",
       "1101      831\n",
       "111       587\n",
       "1110      319\n",
       "1011      310\n",
       "1111      232\n",
       "Name: 19, dtype: int64"
      ]
     },
     "execution_count": 1001,
     "metadata": {},
     "output_type": "execute_result"
    }
   ],
   "source": [
    "pd.value_counts(df['19'])"
   ]
  },
  {
   "cell_type": "code",
   "execution_count": 1002,
   "metadata": {},
   "outputs": [
    {
     "data": {
      "text/plain": [
       "3.0    36353\n",
       "2.0    29271\n",
       "4.0    13617\n",
       "1.0    10042\n",
       "5.0     5067\n",
       "6.0     2605\n",
       "8.0      112\n",
       "Name: 20, dtype: int64"
      ]
     },
     "execution_count": 1002,
     "metadata": {},
     "output_type": "execute_result"
    }
   ],
   "source": [
    "pd.value_counts(df['20'])"
   ]
  },
  {
   "cell_type": "code",
   "execution_count": 1003,
   "metadata": {},
   "outputs": [],
   "source": [
    "df[\"20\"].replace(np.nan, 3.0, inplace=True)"
   ]
  },
  {
   "cell_type": "code",
   "execution_count": 1004,
   "metadata": {},
   "outputs": [
    {
     "data": {
      "text/plain": [
       "5.0    54478\n",
       "2.0    19171\n",
       "1.0    14950\n",
       "3.0     7663\n",
       "4.0      804\n",
       "Name: 21, dtype: int64"
      ]
     },
     "execution_count": 1004,
     "metadata": {},
     "output_type": "execute_result"
    }
   ],
   "source": [
    "pd.value_counts(df['21'])"
   ]
  },
  {
   "cell_type": "code",
   "execution_count": 1005,
   "metadata": {},
   "outputs": [],
   "source": [
    "df[\"21\"].replace(np.nan, 5.0, inplace=True)"
   ]
  },
  {
   "cell_type": "code",
   "execution_count": 1006,
   "metadata": {},
   "outputs": [
    {
     "data": {
      "text/plain": [
       "1.0    71395\n",
       "0.0    25671\n",
       "Name: 22, dtype: int64"
      ]
     },
     "execution_count": 1006,
     "metadata": {},
     "output_type": "execute_result"
    }
   ],
   "source": [
    "pd.value_counts(df['22'])"
   ]
  },
  {
   "cell_type": "code",
   "execution_count": 1007,
   "metadata": {},
   "outputs": [],
   "source": [
    "df[\"22\"].replace(np.nan, 1.0, inplace=True)"
   ]
  },
  {
   "cell_type": "code",
   "execution_count": 1008,
   "metadata": {},
   "outputs": [
    {
     "data": {
      "text/plain": [
       "1.0    75184\n",
       "0.0    21882\n",
       "Name: 23, dtype: int64"
      ]
     },
     "execution_count": 1008,
     "metadata": {},
     "output_type": "execute_result"
    }
   ],
   "source": [
    "pd.value_counts(df['23'])"
   ]
  },
  {
   "cell_type": "code",
   "execution_count": 1009,
   "metadata": {},
   "outputs": [],
   "source": [
    "df[\"23\"].replace(np.nan, 1.0, inplace=True)"
   ]
  },
  {
   "cell_type": "code",
   "execution_count": 1010,
   "metadata": {},
   "outputs": [
    {
     "data": {
      "text/plain": [
       "1.0    85332\n",
       "0.0    11734\n",
       "Name: 24, dtype: int64"
      ]
     },
     "execution_count": 1010,
     "metadata": {},
     "output_type": "execute_result"
    }
   ],
   "source": [
    "pd.value_counts(df['24'])"
   ]
  },
  {
   "cell_type": "code",
   "execution_count": 1011,
   "metadata": {},
   "outputs": [],
   "source": [
    "df[\"24\"].replace(np.nan, 1.0, inplace=True)"
   ]
  },
  {
   "cell_type": "code",
   "execution_count": 1012,
   "metadata": {},
   "outputs": [
    {
     "data": {
      "text/plain": [
       "1    95167\n",
       "0     1901\n",
       "Name: 25, dtype: int64"
      ]
     },
     "execution_count": 1012,
     "metadata": {},
     "output_type": "execute_result"
    }
   ],
   "source": [
    "pd.value_counts(df['25'])"
   ]
  },
  {
   "cell_type": "code",
   "execution_count": 1013,
   "metadata": {},
   "outputs": [
    {
     "data": {
      "text/plain": [
       "0.0    63722\n",
       "1.0    33344\n",
       "Name: 26, dtype: int64"
      ]
     },
     "execution_count": 1013,
     "metadata": {},
     "output_type": "execute_result"
    }
   ],
   "source": [
    "pd.value_counts(df['26'])"
   ]
  },
  {
   "cell_type": "code",
   "execution_count": 1014,
   "metadata": {},
   "outputs": [],
   "source": [
    "df[\"26\"].replace(np.nan, 0.0, inplace=True)"
   ]
  },
  {
   "cell_type": "code",
   "execution_count": 1015,
   "metadata": {},
   "outputs": [
    {
     "data": {
      "text/plain": [
       "4.0    33727\n",
       "5.0    28430\n",
       "3.0    13437\n",
       "6.0    11935\n",
       "7.0     3937\n",
       "2.0     2946\n",
       "8.0      559\n",
       "1.0      366\n",
       "Name: 31, dtype: int64"
      ]
     },
     "execution_count": 1015,
     "metadata": {},
     "output_type": "execute_result"
    }
   ],
   "source": [
    "pd.value_counts(df['31'])"
   ]
  },
  {
   "cell_type": "code",
   "execution_count": 1016,
   "metadata": {},
   "outputs": [],
   "source": [
    "df[\"31\"].replace(np.nan, 4.0, inplace=True)"
   ]
  },
  {
   "cell_type": "code",
   "execution_count": 1017,
   "metadata": {},
   "outputs": [
    {
     "data": {
      "text/plain": [
       "A1    28048\n",
       "A-    21981\n",
       "B1    18978\n",
       "A2    18834\n",
       "B+     9227\n",
       "Name: 34, dtype: int64"
      ]
     },
     "execution_count": 1017,
     "metadata": {},
     "output_type": "execute_result"
    }
   ],
   "source": [
    "pd.value_counts(df['34'])"
   ]
  },
  {
   "cell_type": "markdown",
   "metadata": {},
   "source": [
    "### Descripcion de frecuencias por cada variable de tipo categorica"
   ]
  },
  {
   "cell_type": "code",
   "execution_count": 1018,
   "metadata": {
    "scrolled": true
   },
   "outputs": [
    {
     "data": {
      "image/png": "[encoded data removed]",
      "text/plain": [
       "<Figure size 2160x1872 with 25 Axes>"
      ]
     },
     "metadata": {
      "needs_background": "light"
     },
     "output_type": "display_data"
    }
   ],
   "source": [
    "fig, axes = plt.subplots(nrows=5, ncols=5)\n",
    "fig.set_size_inches(30,26)\n",
    "\n",
    "plt.subplot(5, 5, 1)\n",
    "plot = df['1'].value_counts().plot(kind='bar', title='Genero')\n",
    "plt.subplot(5, 5, 2)\n",
    "plot = df['3'].value_counts().plot(kind='bar', title='Estado civil')\n",
    "plt.subplot(5, 5, 3)\n",
    "plot = df['4'].value_counts().plot(kind='bar', title='Discapacidad')\n",
    "plt.subplot(5, 5, 4)\n",
    "plot = df['5'].value_counts().plot(kind='bar', title='Tipo de hogar')\n",
    "plt.subplot(5, 5, 5)\n",
    "plot = df['7'].value_counts().plot(kind='bar', title='Cabeza de familia')\n",
    "plt.subplot(5, 5, 6)\n",
    "plot = df['9'].value_counts().plot(kind='bar', title='Nivel educativo de los padres')\n",
    "plt.subplot(5, 5, 7)\n",
    "plot = df['10'].value_counts().plot(kind='bar', title='Ocupacion del Padre')\n",
    "plt.subplot(5, 5, 8)\n",
    "plot = df['11'].value_counts().plot(kind='bar', title='Ocupacion de la madre')\n",
    "plt.subplot(5, 5, 9)\n",
    "plot = df['12'].value_counts().plot(kind='bar', title='Tipo de institucion')\n",
    "plt.subplot(5, 5, 10)\n",
    "plot = df['13'].value_counts().plot(kind='bar', title='inst_caracter_academico')\n",
    "plt.subplot(5, 5, 11)\n",
    "plot = df['14'].value_counts().plot(kind='bar', title='estu_metodo_prgm')\n",
    "plt.subplot(5, 5, 12)\n",
    "plot = df['15'].value_counts().plot(kind='bar', title='estu_area_conoc')\n",
    "plt.subplot(5, 5, 13)\n",
    "plot = df['16'].value_counts().plot(kind='bar', title='estu_grupo_referencia')\n",
    "plt.subplot(5, 5, 14)\n",
    "plot = df['17'].value_counts().plot(kind='bar', title='estu_semestre_cursa')\n",
    "plt.subplot(5, 5, 15)\n",
    "plot = df['18'].value_counts().plot(kind='bar', title='estu_titulo_bto')\n",
    "plt.subplot(5, 5, 16)\n",
    "plot = df['19'].value_counts().plot(kind='bar', title='estu_financiacion_matricula')\n",
    "plt.subplot(5, 5, 17)\n",
    "plot = df['20'].value_counts().plot(kind='bar', title='estu_estrato')\n",
    "plt.subplot(5, 5, 18)\n",
    "plot = df['21'].value_counts().plot(kind='bar', title='estu_nivel_sisben')\n",
    "plt.subplot(5, 5, 19)\n",
    "plot = df['22'].value_counts().plot(kind='bar', title='econ_sn_internet')\n",
    "plt.subplot(5, 5, 20)\n",
    "plot = df['23'].value_counts().plot(kind='bar', title='econ_sn_servicio_tv')\n",
    "plt.subplot(5, 5, 21)\n",
    "plot = df['24'].value_counts().plot(kind='bar', title='econ_sn_computador')\n",
    "plt.subplot(5, 5, 22)\n",
    "plot = df['25'].value_counts().plot(kind='bar', title='econ_electrodomesticos')\n",
    "plt.subplot(5, 5, 23)\n",
    "plot = df['26'].value_counts().plot(kind='bar', title='econ_sn_automovil')\n",
    "plt.subplot(5, 5, 24)\n",
    "plot = df['31'].value_counts().plot(kind='bar', title='mod_comunica_escrita_desem')\n",
    "plt.subplot(5, 5, 25)\n",
    "plot = df['34'].value_counts().plot(kind='bar', title='mod_ingles_desem')\n",
    "\n",
    "plt.show()"
   ]
  },
  {
   "cell_type": "markdown",
   "metadata": {},
   "source": [
    "### Deteccion y Eliminacion de outliers"
   ]
  },
  {
   "cell_type": "code",
   "execution_count": 1019,
   "metadata": {
    "scrolled": true
   },
   "outputs": [
    {
     "data": {
      "text/plain": [
       "(26.02791857254708, 6.4092475749066935)"
      ]
     },
     "execution_count": 1019,
     "metadata": {},
     "output_type": "execute_result"
    }
   ],
   "source": [
    "mean=estadisticos['2']['mean']\n",
    "std=estadisticos['2']['std']\n",
    "(mean,std)"
   ]
  },
  {
   "cell_type": "code",
   "execution_count": 1020,
   "metadata": {},
   "outputs": [
    {
     "data": {
      "image/png": "[encoded data removed]",
      "text/plain": [
       "<Figure size 432x288 with 1 Axes>"
      ]
     },
     "metadata": {
      "needs_background": "light"
     },
     "output_type": "display_data"
    }
   ],
   "source": [
    "mu, sigma = mean, std\n",
    "date=df[\"2\"]\n",
    "date = np.random.normal(mu, sigma, 1000)\n",
    "cuenta, cajas, ignorar = plt.hist(date, 20)\n",
    "plt.ylabel('frequencia')\n",
    "plt.xlabel('valores')\n",
    "plt.title('Datos edad')\n",
    "plt.show()\n"
   ]
  },
  {
   "cell_type": "code",
   "execution_count": 1021,
   "metadata": {},
   "outputs": [],
   "source": [
    "def standared(datos,mean, std):\n",
    "    values=(datos-mean)/std\n",
    "    return values\n",
    "\n",
    "def probability(datos):\n",
    "    values=(1/((2*np.pi)**0.5))*np.exp(-datos**2/2)\n",
    "    return values"
   ]
  },
  {
   "cell_type": "code",
   "execution_count": 1022,
   "metadata": {},
   "outputs": [
    {
     "data": {
      "image/png": "[encoded data removed]",
      "text/plain": [
       "<Figure size 1080x792 with 7 Axes>"
      ]
     },
     "metadata": {},
     "output_type": "display_data"
    }
   ],
   "source": [
    "fig = plt.figure()\n",
    "fig.set_size_inches(15,11)\n",
    "\n",
    "plt.subplot(3, 1, 1)\n",
    "plt.xticks(()), plt.yticks(())\n",
    "v1=df['2'].values \n",
    "v1=np.sort(v1)\n",
    "x=standared(v1,df['2'].mean(),df['2'].std())\n",
    "y=probability(x)\n",
    "plt.plot(x,y, c='r')\n",
    "plt.axvline(x=0, ymin=0.05, ymax=0.95, c='b')\n",
    "nstd=x.std()\n",
    "plt.axvline(x=nstd, ymin=0.05, ymax=0.5, c='g')\n",
    "plt.axvline(x=-nstd, ymin=0.05, ymax=0.5, c='g')\n",
    "plt.title('Campana de Gauss (column 2)')\n",
    "\n",
    "\n",
    "plt.subplot(3, 3, 4)\n",
    "plt.xticks(())\n",
    "plt.yticks(())\n",
    "v2=df['6'].values \n",
    "v2=np.sort(v2)\n",
    "x=standared(v2,df['6'].mean(),df['6'].std())\n",
    "y=probability(x)\n",
    "plt.plot(x,y, c='r')\n",
    "plt.axvline(x=0, ymin=0.05, ymax=0.95, c='b')\n",
    "nstd=x.std()\n",
    "plt.axvline(x=nstd, ymin=0.05, ymax=0.5, c='g')\n",
    "plt.axvline(x=-nstd, ymin=0.05, ymax=0.5, c='g')\n",
    "plt.title('Campana de Gauss (column 6)')\n",
    "\n",
    "\n",
    "plt.subplot(3, 3, 5)\n",
    "plt.xticks(())\n",
    "plt.yticks(())\n",
    "v2=df['27'].values \n",
    "v2=np.sort(v2)\n",
    "x=standared(v2,df['27'].mean(),df['27'].std())\n",
    "y=probability(x)\n",
    "plt.plot(x,y, c='r')\n",
    "plt.axvline(x=0, ymin=0.05, ymax=0.95, c='b')\n",
    "nstd=x.std()\n",
    "plt.axvline(x=nstd, ymin=0.05, ymax=0.5, c='g')\n",
    "plt.axvline(x=-nstd, ymin=0.05, ymax=0.5, c='g')\n",
    "plt.title('Campana de Gauss (column 27)')\n",
    "\n",
    "\n",
    "plt.subplot(3, 3, 6)\n",
    "plt.xticks(())\n",
    "plt.yticks(())\n",
    "v2=df['29'].values \n",
    "v2=np.sort(v2)\n",
    "x=standared(v2,df['29'].mean(),df['29'].std())\n",
    "y=probability(x)\n",
    "plt.plot(x,y, c='r')\n",
    "plt.axvline(x=0, ymin=0.05, ymax=0.95, c='b')\n",
    "nstd=x.std()\n",
    "plt.axvline(x=nstd, ymin=0.05, ymax=0.5, c='g')\n",
    "plt.axvline(x=-nstd, ymin=0.05, ymax=0.5, c='g')\n",
    "plt.title('Campana de Gauss (column 29)')\n",
    "\n",
    "\n",
    "plt.subplot(3, 3, 7)\n",
    "plt.xticks(())\n",
    "plt.yticks(())\n",
    "v2=df['30'].values \n",
    "v2=np.sort(v2)\n",
    "x=standared(v2,df['30'].mean(),df['30'].std())\n",
    "y=probability(x)\n",
    "plt.plot(x,y, c='r')\n",
    "plt.axvline(x=0, ymin=0.05, ymax=0.95, c='b')\n",
    "nstd=x.std()\n",
    "plt.axvline(x=nstd, ymin=0.05, ymax=0.5, c='g')\n",
    "plt.axvline(x=-nstd, ymin=0.05, ymax=0.5, c='g')\n",
    "plt.title('Campana de Gauss (column 30)')\n",
    "\n",
    "plt.subplot(3, 3, 8)\n",
    "plt.xticks(())\n",
    "plt.yticks(())\n",
    "v2=df['32'].values \n",
    "v2=np.sort(v2)\n",
    "x=standared(v2,df['32'].mean(),df['32'].std())\n",
    "y=probability(x)\n",
    "plt.plot(x,y, c='r')\n",
    "plt.axvline(x=0, ymin=0.05, ymax=0.95, c='b')\n",
    "nstd=x.std()\n",
    "plt.axvline(x=nstd, ymin=0.05, ymax=0.5, c='g')\n",
    "plt.axvline(x=-nstd, ymin=0.05, ymax=0.5, c='g')\n",
    "plt.title('Campana de Gauss (column 32)')\n",
    "\n",
    "plt.subplot(3, 3, 9)\n",
    "plt.xticks(())\n",
    "plt.yticks(())\n",
    "v2=df['33'].values \n",
    "v2=np.sort(v2)\n",
    "x=standared(v2,df['33'].mean(),df['33'].std())\n",
    "y=probability(x)\n",
    "plt.plot(x,y, c='r')\n",
    "plt.axvline(x=0, ymin=0.05, ymax=0.95, c='b')\n",
    "nstd=x.std()\n",
    "plt.axvline(x=nstd, ymin=0.05, ymax=0.5, c='g')\n",
    "plt.axvline(x=-nstd, ymin=0.05, ymax=0.5, c='g')\n",
    "plt.title('Campana de Gauss (column 33)')\n",
    "\n",
    "plt.show()"
   ]
  },
  {
   "cell_type": "code",
   "execution_count": 1023,
   "metadata": {},
   "outputs": [],
   "source": [
    "numeric=['2','6','27','29','30','32','33']\n",
    "\n",
    "for item in numeric:\n",
    "    mean=df[item].mean()\n",
    "    std=df[item].std()\n",
    "    filter3=df[item]>mean+2*std\n",
    "    filter4=df[item]<mean-2*std\n",
    "    index=df[item][filter3]\n",
    "    df[item].replace(index,mean, inplace=True)\n",
    "    index=df[item][filter4]\n",
    "    df[item].replace(index,mean, inplace=True)   \n"
   ]
  },
  {
   "cell_type": "code",
   "execution_count": 1024,
   "metadata": {},
   "outputs": [
    {
     "data": {
      "image/png": "[encoded data removed]",
      "text/plain": [
       "<Figure size 1080x792 with 7 Axes>"
      ]
     },
     "metadata": {},
     "output_type": "display_data"
    }
   ],
   "source": [
    "fig = plt.figure()\n",
    "fig.set_size_inches(15,11)\n",
    "\n",
    "plt.subplot(3, 1, 1)\n",
    "plt.xticks(()), plt.yticks(())\n",
    "v1=df['2'].values \n",
    "v1=np.sort(v1)\n",
    "x=standared(v1,df['2'].mean(),df['2'].std())\n",
    "y=probability(x)\n",
    "plt.plot(x,y, c='r')\n",
    "plt.axvline(x=0, ymin=0.05, ymax=0.95, c='b')\n",
    "nstd=x.std()\n",
    "plt.axvline(x=nstd, ymin=0.05, ymax=0.5, c='g')\n",
    "plt.axvline(x=-nstd, ymin=0.05, ymax=0.5, c='g')\n",
    "plt.title('Campana de Gauss (column 2)')\n",
    "\n",
    "\n",
    "plt.subplot(3, 3, 4)\n",
    "plt.xticks(())\n",
    "plt.yticks(())\n",
    "v2=df['6'].values \n",
    "v2=np.sort(v2)\n",
    "x=standared(v2,df['6'].mean(),df['6'].std())\n",
    "y=probability(x)\n",
    "plt.plot(x,y, c='r')\n",
    "plt.axvline(x=0, ymin=0.05, ymax=0.95, c='b')\n",
    "nstd=x.std()\n",
    "plt.axvline(x=nstd, ymin=0.05, ymax=0.5, c='g')\n",
    "plt.axvline(x=-nstd, ymin=0.05, ymax=0.5, c='g')\n",
    "plt.title('Campana de Gauss (column 6)')\n",
    "\n",
    "\n",
    "plt.subplot(3, 3, 5)\n",
    "plt.xticks(())\n",
    "plt.yticks(())\n",
    "v2=df['27'].values \n",
    "v2=np.sort(v2)\n",
    "x=standared(v2,df['27'].mean(),df['27'].std())\n",
    "y=probability(x)\n",
    "plt.plot(x,y, c='r')\n",
    "plt.axvline(x=0, ymin=0.05, ymax=0.95, c='b')\n",
    "nstd=x.std()\n",
    "plt.axvline(x=nstd, ymin=0.05, ymax=0.5, c='g')\n",
    "plt.axvline(x=-nstd, ymin=0.05, ymax=0.5, c='g')\n",
    "plt.title('Campana de Gauss (column 27)')\n",
    "\n",
    "\n",
    "plt.subplot(3, 3, 6)\n",
    "plt.xticks(())\n",
    "plt.yticks(())\n",
    "v2=df['29'].values \n",
    "v2=np.sort(v2)\n",
    "x=standared(v2,df['29'].mean(),df['29'].std())\n",
    "y=probability(x)\n",
    "plt.plot(x,y, c='r')\n",
    "plt.axvline(x=0, ymin=0.05, ymax=0.95, c='b')\n",
    "nstd=x.std()\n",
    "plt.axvline(x=nstd, ymin=0.05, ymax=0.5, c='g')\n",
    "plt.axvline(x=-nstd, ymin=0.05, ymax=0.5, c='g')\n",
    "plt.title('Campana de Gauss (column 29)')\n",
    "\n",
    "\n",
    "plt.subplot(3, 3, 7)\n",
    "plt.xticks(())\n",
    "plt.yticks(())\n",
    "v2=df['30'].values \n",
    "v2=np.sort(v2)\n",
    "x=standared(v2,df['30'].mean(),df['30'].std())\n",
    "y=probability(x)\n",
    "plt.plot(x,y, c='r')\n",
    "plt.axvline(x=0, ymin=0.05, ymax=0.95, c='b')\n",
    "nstd=x.std()\n",
    "plt.axvline(x=nstd, ymin=0.05, ymax=0.5, c='g')\n",
    "plt.axvline(x=-nstd, ymin=0.05, ymax=0.5, c='g')\n",
    "plt.title('Campana de Gauss (column 30)')\n",
    "\n",
    "plt.subplot(3, 3, 8)\n",
    "plt.xticks(())\n",
    "plt.yticks(())\n",
    "v2=df['32'].values \n",
    "v2=np.sort(v2)\n",
    "x=standared(v2,df['32'].mean(),df['32'].std())\n",
    "y=probability(x)\n",
    "plt.plot(x,y, c='r')\n",
    "plt.axvline(x=0, ymin=0.05, ymax=0.95, c='b')\n",
    "nstd=x.std()\n",
    "plt.axvline(x=nstd, ymin=0.05, ymax=0.5, c='g')\n",
    "plt.axvline(x=-nstd, ymin=0.05, ymax=0.5, c='g')\n",
    "plt.title('Campana de Gauss (column 32)')\n",
    "\n",
    "plt.subplot(3, 3, 9)\n",
    "plt.xticks(())\n",
    "plt.yticks(())\n",
    "v2=df['33'].values \n",
    "v2=np.sort(v2)\n",
    "x=standared(v2,df['33'].mean(),df['33'].std())\n",
    "y=probability(x)\n",
    "plt.plot(x,y, c='r')\n",
    "plt.axvline(x=0, ymin=0.05, ymax=0.95, c='b')\n",
    "nstd=x.std()\n",
    "plt.axvline(x=nstd, ymin=0.05, ymax=0.5, c='g')\n",
    "plt.axvline(x=-nstd, ymin=0.05, ymax=0.5, c='g')\n",
    "plt.title('Campana de Gauss (column 33)')\n",
    "\n",
    "plt.show()"
   ]
  }
 ],
 "metadata": {
  "kernelspec": {
   "display_name": "Python 3",
   "language": "python",
   "name": "python3"
  },
  "language_info": {
   "codemirror_mode": {
    "name": "ipython",
    "version": 3
   },
   "file_extension": ".py",
   "mimetype": "text/x-python",
   "name": "python",
   "nbconvert_exporter": "python",
   "pygments_lexer": "ipython3",
   "version": "3.7.4"
  }
 },
 "nbformat": 4,
 "nbformat_minor": 2
}
